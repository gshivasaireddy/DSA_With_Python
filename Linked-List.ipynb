{
 "cells": [
  {
   "cell_type": "markdown",
   "metadata": {},
   "source": [
    "# Introduction to Linked List"
   ]
  },
  {
   "cell_type": "code",
   "execution_count": 2,
   "metadata": {},
   "outputs": [],
   "source": [
    "class LinkedList:\n",
    "    \n",
    "    # Initially when a node is called it should have two attributes i.e data and next(address of next node)\n",
    "    def __init__(self,data):\n",
    "        self.data = data\n",
    "        self.next = None  # initially it is none\n",
    "        \n"
   ]
  },
  {
   "cell_type": "code",
   "execution_count": 3,
   "metadata": {},
   "outputs": [],
   "source": [
    "# Creates a LL and returns head node (start pointer of LL)\n",
    "def createLL():\n",
    "    num =0\n",
    "    \n",
    "    head = None  # pointers to nodes\n",
    "    tail = None\n",
    "    \n",
    "    while num!=-1:\n",
    "        num = int(input('Enter a number : '))\n",
    "        if num==-1:\n",
    "            break\n",
    "            \n",
    "     \n",
    "        \n",
    "        newnode = LinkedList(num)\n",
    "            \n",
    "        # initially we point head to first node that we created\n",
    "        if head is None:\n",
    "            head = newnode\n",
    "            tail = newnode\n",
    "                \n",
    "        # later on we create links using temp pointer\n",
    "        else:\n",
    "            tail.next = newnode\n",
    "            tail = newnode\n",
    "                \n",
    "                \n",
    "    return head\n",
    "       \n",
    "    \n",
    "#head = createLL()\n",
    "    \n",
    "    "
   ]
  },
  {
   "cell_type": "code",
   "execution_count": 4,
   "metadata": {},
   "outputs": [],
   "source": [
    "def printLL(head):\n",
    "    \n",
    "    while head is not None:\n",
    "        print(str(head.data) +' -> ',end = '')\n",
    "        head = head.next\n",
    "    print('None')\n",
    "    \n",
    "        \n",
    "#printLL(head)\n",
    "#print(head.data)"
   ]
  },
  {
   "cell_type": "code",
   "execution_count": null,
   "metadata": {},
   "outputs": [],
   "source": [
    "### Print ith node\n",
    "\n",
    "def print_ith(curr , index):\n",
    "    \n",
    "    \n",
    "    count = 0\n",
    "    while count <index and curr is not None:\n",
    "        curr = curr.next\n",
    "        count+=1\n",
    "        \n",
    "    print(curr.data)\n",
    "    \n",
    "#print_ith(head , 4) # index starts from 0\n",
    "        \n",
    "    "
   ]
  },
  {
   "cell_type": "code",
   "execution_count": null,
   "metadata": {},
   "outputs": [],
   "source": [
    "def lengthLL(head):\n",
    "    count = 0\n",
    "    \n",
    "    while head is not None:\n",
    "        count+=1\n",
    "        head=head.next\n",
    "        \n",
    "    return count\n",
    "\n",
    "#print('length is : ' , lengthLL(head))\n",
    "\n",
    "\n",
    "# inserting at ith position\n",
    "\n",
    "def insert_ith(head , pos, data):\n",
    "\n",
    "    if pos<0 or pos>lengthLL(head):\n",
    "        return head\n",
    "    \n",
    "    count = 0\n",
    "    prev = None\n",
    "    curr = head\n",
    "\n",
    "    while count<pos:\n",
    "        prev = curr\n",
    "        curr = curr.next\n",
    "        count+=1\n",
    "        \n",
    "    newnode = LinkedList(data)\n",
    "    print(newnode.data)\n",
    "    \n",
    "    \n",
    "    if prev is not None:\n",
    "        prev.next = newnode  \n",
    "    else:       \n",
    "        head = newnode\n",
    "    newnode.next = curr\n",
    "        \n",
    "    return head\n",
    "\n",
    "#insert_ith(head , 3 , 400)\n",
    "\n",
    "#print(head.data)\n",
    "\n",
    "\n",
    "\n",
    "\n",
    "        \n",
    "        \n",
    "        "
   ]
  },
  {
   "cell_type": "code",
   "execution_count": null,
   "metadata": {},
   "outputs": [],
   "source": [
    "printLL(head)\n",
    "\n",
    "print(head.data)"
   ]
  },
  {
   "cell_type": "code",
   "execution_count": null,
   "metadata": {},
   "outputs": [],
   "source": [
    "head = insert_ith(head , 1 , 1100)\n",
    "printLL(head)"
   ]
  },
  {
   "cell_type": "code",
   "execution_count": null,
   "metadata": {},
   "outputs": [],
   "source": [
    "head = insert_ith(head , 0 , 1700)\n",
    "printLL(head)"
   ]
  },
  {
   "cell_type": "code",
   "execution_count": null,
   "metadata": {},
   "outputs": [],
   "source": [
    "print(head.data)"
   ]
  },
  {
   "cell_type": "code",
   "execution_count": null,
   "metadata": {},
   "outputs": [],
   "source": [
    "head = insert_ith(head , 5 , 1800)\n",
    "printLL(head)"
   ]
  },
  {
   "cell_type": "code",
   "execution_count": null,
   "metadata": {},
   "outputs": [],
   "source": [
    "head = insert_ith(head , 7, 1900)\n",
    "printLL(head)"
   ]
  },
  {
   "cell_type": "code",
   "execution_count": null,
   "metadata": {},
   "outputs": [],
   "source": [
    "# Deleting a Node from a linked list\n",
    "def delete_ith(head, pos):\n",
    "    \n",
    "    count =0\n",
    "    prev = None\n",
    "    curr = head\n",
    "    \n",
    "    if pos<0 and pos>lengthLL(head):\n",
    "        print('Invalid Position')\n",
    "        \n",
    "    while count<pos:\n",
    "        prev = curr\n",
    "        curr = curr.next\n",
    "        count+=1\n",
    "        \n",
    "        \n",
    "    # deleting middle nodes    \n",
    "    if prev is not None:\n",
    "        prev.next = curr.next\n",
    "        \n",
    "    # deleting last node\n",
    "    elif pos==lengthLL(head)-1:\n",
    "        prev.next = None\n",
    "        \n",
    "    # deleting first Node\n",
    "    else:\n",
    "        head = head.next\n",
    "    curr.next=None\n",
    "    del(curr)\n",
    "    \n",
    "    return head\n",
    "\n",
    "head = delete_ith(head , 1)\n",
    "printLL(head)\n",
    "\n",
    "head = delete_ith(head , 0)\n",
    "printLL(head)\n",
    "\n",
    "head = delete_ith(head , lengthLL(head)-1)\n",
    "printLL(head)\n",
    "\n",
    "        \n",
    "        \n",
    "        \n",
    "    "
   ]
  },
  {
   "cell_type": "code",
   "execution_count": null,
   "metadata": {},
   "outputs": [],
   "source": [
    "def recursive_insert(head , pos , data):\n",
    "    \n",
    "    if pos<0:\n",
    "        return head\n",
    "    \n",
    "    # to check if its out of range\n",
    "    if head is None:\n",
    "        return None\n",
    "    \n",
    "    # Base case : when pos becomes 0 create a node \n",
    "    if pos==0:\n",
    "        newnode = LinkedList(data)\n",
    "        newnode.next = head\n",
    "        return newnode\n",
    "        \n",
    "    smallhead = recursive_insert(head.next , pos-1 , data)\n",
    "    head.next = smallhead\n",
    "    \n",
    "    return head\n",
    "\n",
    "head= recursive_insert(head , 0, 3000)\n",
    "printLL(head)\n",
    "    \n",
    "    \n",
    "    \n",
    "        \n",
    "        "
   ]
  },
  {
   "cell_type": "code",
   "execution_count": null,
   "metadata": {},
   "outputs": [],
   "source": [
    "def recursive_delete(head , pos):\n",
    "    if pos<0:\n",
    "        print('Invalid position')\n",
    "        return head\n",
    "    \n",
    "    if head is None:\n",
    "        print('Out of Bounds')\n",
    "        return None\n",
    "    \n",
    "    if pos==0:\n",
    "        return head.next\n",
    "    \n",
    "    smalloutput = recursive_delete(head.next , pos-1)\n",
    "    head.next = smalloutput\n",
    "    \n",
    "    return head\n",
    "\n",
    "    "
   ]
  },
  {
   "cell_type": "code",
   "execution_count": null,
   "metadata": {},
   "outputs": [],
   "source": [
    "head = recursive_delete(head , 0)\n",
    "printLL(head)"
   ]
  },
  {
   "cell_type": "code",
   "execution_count": null,
   "metadata": {},
   "outputs": [],
   "source": [
    "head = recursive_delete(head , 2)\n",
    "printLL(head)"
   ]
  },
  {
   "cell_type": "code",
   "execution_count": null,
   "metadata": {},
   "outputs": [],
   "source": [
    "head = recursive_delete(head , 3)\n",
    "printLL(head)"
   ]
  },
  {
   "cell_type": "code",
   "execution_count": null,
   "metadata": {},
   "outputs": [],
   "source": [
    "head = recursive_delete(head , -1)\n",
    "printLL(head)"
   ]
  },
  {
   "cell_type": "code",
   "execution_count": null,
   "metadata": {},
   "outputs": [],
   "source": [
    "def search_node(head , data):\n",
    "    count=0\n",
    "    curr = head\n",
    "    \n",
    "    while curr is not None:\n",
    "        if curr.data == data:\n",
    "            return count\n",
    "        \n",
    "        count+=1        \n",
    "        curr = curr.next\n",
    "        \n",
    "    \n",
    "    return -1\n",
    "\n",
    "index = search_node(head , 10)\n",
    "        \n",
    "        \n",
    "print(index)"
   ]
  },
  {
   "cell_type": "code",
   "execution_count": null,
   "metadata": {},
   "outputs": [],
   "source": [
    "def append_last_n_nodes_to_first(head, n):\n",
    "    \n",
    "    if head is None or n<0 or n>lengthLL(head):\n",
    "        return None\n",
    "    \n",
    "    count = 1\n",
    "    length = lengthLL(head)\n",
    "    curr = head\n",
    "    \n",
    "    i = length - n  # 5-3 = 2\n",
    "    \n",
    "    # to reach i-1 th position\n",
    "    while curr is not None and count < i:\n",
    "        print(curr.data)\n",
    "        count+=1\n",
    "        curr=curr.next\n",
    "        \n",
    "    head2 = tail=curr.next\n",
    "    curr.next = None\n",
    "    \n",
    "    while tail.next is not None:\n",
    "        tail=tail.next\n",
    "        \n",
    "    tail.next = head\n",
    "    head = head2\n",
    "    \n",
    "    return head\n",
    "    \n",
    "        \n",
    "        \n",
    "    \n",
    "    \n",
    "head= append_last_n_nodes_to_first(head , 3)\n",
    "printLL(head)\n",
    "    \n",
    "        "
   ]
  },
  {
   "cell_type": "code",
   "execution_count": null,
   "metadata": {},
   "outputs": [],
   "source": [
    "print(head.data)"
   ]
  },
  {
   "cell_type": "code",
   "execution_count": null,
   "metadata": {},
   "outputs": [],
   "source": [
    "#Remove Duplicates from sorted List\n",
    "def remove_dup(head):\n",
    "    \n",
    "    # if 0 or 1 element then no duplicates\n",
    "    if head is None or head.next is not None:\n",
    "        return \n",
    "    \n",
    "    prev = head\n",
    "    curr = head.next\n",
    "    \n",
    "    while curr is not None:\n",
    "        if prev.data == curr.data:\n",
    "            curr = curr.next\n",
    "        else:\n",
    "            prev = curr\n",
    "            curr = curr.next\n",
    "        \n",
    "    prev.next = curr\n",
    "    return head\n",
    "    \n",
    "head = remove_dup(head)\n",
    "printLL(head)\n",
    "    "
   ]
  },
  {
   "cell_type": "code",
   "execution_count": null,
   "metadata": {},
   "outputs": [],
   "source": [
    "# Print reverse in iterative method --> O(n^2)\n",
    "def print_reverse(head):\n",
    "    \n",
    "    if head is None :\n",
    "        return\n",
    "    \n",
    "    curr = head\n",
    "    \n",
    "    for i in range(lengthLL(head)-1, -1 , -1):\n",
    "       \n",
    "        for j in range(i-1,-1,-1):\n",
    "            #print ('i: {} , j: {}'.format(i,j))\n",
    "            \n",
    "            curr = curr.next\n",
    "        \n",
    "        print(str(curr.data) + ' ' ,end = '')\n",
    "        curr=head\n",
    "    \n",
    "    \n",
    "print_reverse(head)\n",
    "            \n",
    "        "
   ]
  },
  {
   "cell_type": "code",
   "execution_count": null,
   "metadata": {},
   "outputs": [],
   "source": [
    "# printing elements reversely \n",
    "def recursive_reverse_print(head):\n",
    "    if head is None:\n",
    "        return None\n",
    "    \n",
    "    recursive_reverse_print(head.next)\n",
    "    print(str(head.data) ,end=' ')\n",
    "    \n",
    "\n",
    "recursive_reverse_print(head)\n"
   ]
  },
  {
   "cell_type": "code",
   "execution_count": null,
   "metadata": {},
   "outputs": [],
   "source": [
    "# Checks if LL is palindrome or not\n",
    "def is_palindrome(head):\n",
    "    curr = head\n",
    "    \n",
    "    lst = []\n",
    "    \n",
    "    # appending LL data to list\n",
    "    while curr is not None:\n",
    "        lst.append(curr.data)\n",
    "        curr = curr.next\n",
    "        \n",
    "    a = 0\n",
    "    b = len(lst)-1\n",
    "    \n",
    "    print(lst)\n",
    "    \n",
    "    # checking if it is palindrome or not\n",
    "    while a<=b:\n",
    "        if lst[a]!=lst[b]:\n",
    "            return False\n",
    "        a+=1\n",
    "        b-=1\n",
    "    return True\n",
    "        \n",
    "        \n",
    "        \n",
    "        \n",
    "        \n",
    "        \n",
    "            \n",
    "    \n",
    "            \n",
    "    \n",
    "        \n",
    "        \n",
    "        "
   ]
  },
  {
   "cell_type": "code",
   "execution_count": null,
   "metadata": {},
   "outputs": [],
   "source": [
    "is_palindrome(head) # 10 -> 20 -> 30 -> 40 -> 30 -> 20 -> 10\n"
   ]
  },
  {
   "cell_type": "code",
   "execution_count": null,
   "metadata": {},
   "outputs": [],
   "source": [
    "head = createLL()"
   ]
  },
  {
   "cell_type": "code",
   "execution_count": null,
   "metadata": {},
   "outputs": [],
   "source": [
    "lst1 \n"
   ]
  },
  {
   "cell_type": "code",
   "execution_count": null,
   "metadata": {},
   "outputs": [],
   "source": [
    "lst2"
   ]
  },
  {
   "cell_type": "code",
   "execution_count": null,
   "metadata": {},
   "outputs": [],
   "source": [
    "# Reverse a linked list using recursion -> O(n^2)\n",
    "\n",
    "def recursive_reverse(head):\n",
    "    if head is None:\n",
    "        return \n",
    "    \n",
    "    if head.next is None:\n",
    "        return head\n",
    "    \n",
    "    smallhead= recursive_reverse(head.next)  # 10 -> 20 ->30 -> None\n",
    "    \n",
    "    curr = smallhead\n",
    "    \n",
    "    while curr.next is not None:\n",
    "        curr = curr.next\n",
    "        \n",
    "    curr.next = head\n",
    "    head.next = None\n",
    "    \n",
    "    \n",
    "    return smallhead\n",
    "\n",
    "printLL(head)\n",
    "\n",
    "head = recursive_reverse(head)\n",
    "printLL(head)\n",
    "    \n",
    "    "
   ]
  },
  {
   "cell_type": "code",
   "execution_count": null,
   "metadata": {},
   "outputs": [],
   "source": [
    "# reverse a linked list using recursion - method 2 -> O(n)\n",
    "\n",
    "def recursive_reverse2(head):\n",
    "    if head is None or head.next is None:\n",
    "        return head , head   # returns both head and tail\n",
    "    \n",
    "    \n",
    "    smallhead , smalltail = recursive_reverse2(head.next)\n",
    "    \n",
    "    smalltail.next = head\n",
    "    head.next = None\n",
    "    tail = head\n",
    "    \n",
    "    return smallhead , tail\n",
    "\n",
    "print('Linked list before reversing : ', end = ' ')\n",
    "printLL(head) \n",
    "head, tail = recursive_reverse2(head)\n",
    "print('Linked list after reversing : ', end = ' ')\n",
    "printLL(head)\n",
    "\n",
    "print('head data : ',head.data)\n",
    "print('tail data : ',tail.data)"
   ]
  },
  {
   "cell_type": "code",
   "execution_count": null,
   "metadata": {},
   "outputs": [],
   "source": [
    "# reverse a linked list using recursion - method 3(without a tail pointer) -> O(n)\n",
    "\n",
    "def recursive_reverse_3(head):\n",
    "    if head is None or head.next is None:\n",
    "        return head\n",
    "    \n",
    "    smallhead = recursive_reverse_3(head.next)\n",
    "    \n",
    "    tail = head.next\n",
    "    tail.next = head\n",
    "    head.next = None\n",
    "    \n",
    "    return smallhead\n",
    "\n",
    "printLL(head)\n",
    "head = recursive_reverse_3(head)\n",
    "printLL(head)"
   ]
  },
  {
   "cell_type": "code",
   "execution_count": null,
   "metadata": {},
   "outputs": [],
   "source": [
    "def iterative_reverse(head):\n",
    "    prev = None\n",
    "    curr = head\n",
    "    \n",
    "    \n",
    "    while curr is not None:\n",
    "        \n",
    "        next = curr.next\n",
    "        curr.next = prev\n",
    "        prev = curr\n",
    "        curr = next\n",
    "        \n",
    "        \n",
    "    return prev\n",
    "\n",
    "printLL(head)\n",
    "head = iterative_reverse(head)\n",
    "printLL(head)\n",
    "        \n",
    "    "
   ]
  },
  {
   "cell_type": "code",
   "execution_count": null,
   "metadata": {},
   "outputs": [],
   "source": [
    "head=createLL()"
   ]
  },
  {
   "cell_type": "code",
   "execution_count": null,
   "metadata": {},
   "outputs": [],
   "source": [
    "# Finding a mid-point method-1-> O(2n)\n",
    "\n",
    "def mid_point_1(head):\n",
    "    length = lengthLL(head)  # o(n) times\n",
    "    \n",
    "    curr = head\n",
    "    count = 0\n",
    "    \n",
    "    # O(n/2)\n",
    "    while count<(length-1)//2:  # (5-1)//2 = 2 or (6-1)//2 = 2\n",
    "        count+=1\n",
    "        curr = curr.next\n",
    "        \n",
    "        \n",
    "    return count , curr.data\n",
    "\n",
    "index , value = mid_point_1(head)\n",
    "print(index,value)\n",
    "        \n",
    "        \n",
    "        \n",
    "        \n",
    "        \n",
    "    "
   ]
  },
  {
   "cell_type": "code",
   "execution_count": null,
   "metadata": {},
   "outputs": [],
   "source": [
    "# Method:2 mid-point using slow and fast pointers concept\n",
    "def mid_point_2(head):\n",
    "    if head is None or head.next is None:\n",
    "        return head\n",
    "    \n",
    "    slow = fast = head\n",
    "    \n",
    "    \n",
    "    count=0\n",
    "    while fast.next is not None and fast.next.next is not None:\n",
    "        slow = slow.next  # incr by 1x\n",
    "        fast = fast.next.next  # incr by 2x\n",
    "        count+=1\n",
    "        \n",
    "    return count , slow.data\n",
    "\n",
    "#index,value = mid_point_2(head)\n",
    "  \n",
    "#print(index,value)\n",
    "    "
   ]
  },
  {
   "cell_type": "code",
   "execution_count": null,
   "metadata": {},
   "outputs": [],
   "source": [
    "head=createLL()"
   ]
  },
  {
   "cell_type": "code",
   "execution_count": null,
   "metadata": {},
   "outputs": [],
   "source": [
    "# Merging two sorted Linked list in a  sorted order\n",
    "def merge_LL(head1 , head2):\n",
    "   \n",
    "    \n",
    "    fh = LinkedList(0)\n",
    "    ft = fh\n",
    "    \n",
    "    while head1 is not None and head2 is not None:\n",
    "        if head1.data<head2.data:\n",
    "            ft.next = head1\n",
    "            ft = ft.next\n",
    "            head1 = head1.next\n",
    "        else:\n",
    "            ft.next = head2\n",
    "            ft = ft.next\n",
    "            head2 = head2.next\n",
    "    \n",
    "    while head1 is not None:\n",
    "        ft.next = head1\n",
    "        ft = ft.next\n",
    "        head1=head1.next\n",
    "            \n",
    "    while head2 is not None:\n",
    "        ft.next = head2\n",
    "        ft = ft.next\n",
    "        head2 = head2.next\n",
    "\n",
    "    \n",
    "            \n",
    "    return fh.next\n",
    "\n",
    "\n",
    "\n",
    "            \n",
    "    \n",
    "    \n",
    "    \n",
    "    \n",
    "\n",
    "\n",
    "\n",
    "            \n",
    "            \n",
    "        \n",
    "       \n",
    "        \n",
    "       \n",
    "        "
   ]
  },
  {
   "cell_type": "code",
   "execution_count": null,
   "metadata": {},
   "outputs": [],
   "source": [
    "head1 = createLL()\n",
    "printLL(head1)"
   ]
  },
  {
   "cell_type": "code",
   "execution_count": null,
   "metadata": {},
   "outputs": [],
   "source": [
    "head2 = createLL()"
   ]
  },
  {
   "cell_type": "code",
   "execution_count": null,
   "metadata": {},
   "outputs": [],
   "source": [
    "head , tail = merge_LL(head1,head2)\n",
    "\n",
    "printLL(head)"
   ]
  },
  {
   "cell_type": "code",
   "execution_count": null,
   "metadata": {},
   "outputs": [],
   "source": [
    "# Merge Sort using Linked List\n",
    "\n",
    "def mid_node(head):\n",
    "    \n",
    "    if head is None or head.next is None:\n",
    "        return head\n",
    "    \n",
    "    slow = fast = head\n",
    "    \n",
    "    while fast.next is None  and fast.next.next is not None:\n",
    "        slow = slow.next\n",
    "        fast = fast.next.next\n",
    "        \n",
    "    return slow\n",
    "\n",
    "def tail_node(head):\n",
    "    if head is None or head.next is None:\n",
    "        return head\n",
    "    \n",
    "    tail = head\n",
    "    \n",
    "    while tail.next is None:\n",
    "        tail = tail.next\n",
    "        \n",
    "    return tail\n",
    "    \n",
    "\n",
    "    \n",
    "\n",
    "def merge_sort_LL(head):\n",
    "    \n",
    "    # base case\n",
    "    if head is None or head.next is None:\n",
    "        return head\n",
    "    \n",
    "    mid = mid_node(head)\n",
    "    head1 = head\n",
    "    head2 = mid.next\n",
    "    mid.next = None\n",
    "    \n",
    "    \n",
    "    \n",
    "    head1 = merge_sort_LL(head1)\n",
    "    head2 = merge_sort_LL(head2)\n",
    "    \n",
    "    finalhead = merge_LL(head1,head2)\n",
    "    \n",
    "    return finalhead\n",
    "    \n",
    "     \n",
    "    \n",
    "    "
   ]
  },
  {
   "cell_type": "code",
   "execution_count": null,
   "metadata": {},
   "outputs": [],
   "source": [
    "head = createLL()\n",
    "printLL(head)"
   ]
  },
  {
   "cell_type": "code",
   "execution_count": null,
   "metadata": {},
   "outputs": [],
   "source": [
    "tail = tail_node(head)"
   ]
  },
  {
   "cell_type": "code",
   "execution_count": null,
   "metadata": {},
   "outputs": [],
   "source": [
    "finalhead = merge_sort_LL(head)"
   ]
  },
  {
   "cell_type": "code",
   "execution_count": null,
   "metadata": {},
   "outputs": [],
   "source": [
    "printLL(finalhead)"
   ]
  },
  {
   "cell_type": "code",
   "execution_count": null,
   "metadata": {},
   "outputs": [],
   "source": [
    "def even_after_odd(head):\n",
    "    if head is None:\n",
    "        return None\n",
    "    \n",
    "    curr = head\n",
    "    eh = et = oh = ot = None\n",
    "    \n",
    "    while curr is not None:\n",
    "        if curr.data %2==0:\n",
    "            if eh is None:\n",
    "                eh = et = curr\n",
    "                print('et if ' ,et.data)\n",
    "            else:\n",
    "                et.next = curr\n",
    "                et = et.next\n",
    "                print('et else ' ,et.data)\n",
    "                \n",
    "        else:\n",
    "            if oh is None:\n",
    "                oh = ot = curr\n",
    "                print('ot if ',oh.data)\n",
    "            else:\n",
    "                ot.next = curr\n",
    "                ot = ot.next\n",
    "                print('ot else ',ot.data)\n",
    "        print(curr.data)\n",
    "        curr = curr.next\n",
    "        \n",
    "    ot.next = None\n",
    "    et.next = oh\n",
    "    \n",
    "    return eh\n",
    "\n",
    "                "
   ]
  },
  {
   "cell_type": "code",
   "execution_count": null,
   "metadata": {},
   "outputs": [],
   "source": [
    "head = createLL()"
   ]
  },
  {
   "cell_type": "code",
   "execution_count": null,
   "metadata": {},
   "outputs": [],
   "source": [
    "head2 = even_after_odd(head)\n",
    "\n",
    "printLL(head2)"
   ]
  },
  {
   "cell_type": "code",
   "execution_count": 10,
   "metadata": {},
   "outputs": [],
   "source": [
    "def delete_every_n_nodes(head, k , n):\n",
    "    if head is None:\n",
    "        return None\n",
    "    \n",
    "    if n==0:\n",
    "        return head\n",
    "    \n",
    "    if k>=n:\n",
    "        return None\n",
    "        \n",
    "    \n",
    "    \n",
    "    curr = head\n",
    "    temp1 = None\n",
    "    \n",
    "    while curr is not None:\n",
    "        count1 = 0\n",
    "        count2 = 0\n",
    "        \n",
    "        while count1 < k and curr is not None:\n",
    "            curr = curr.next\n",
    "            temp1 = curr\n",
    "            count1+=1\n",
    "            \n",
    "        while count2 < n and curr is not None:        \n",
    "            curr = curr.next            \n",
    "            count2+=1\n",
    "            \n",
    "       # temp1.next = curr.next\n",
    "    if temp1.next is not None:\n",
    "        temp1.next = None\n",
    "        \n",
    "        \n",
    "    return head\n",
    "\n",
    "\n",
    "            \n",
    "            \n",
    "        \n",
    "        "
   ]
  },
  {
   "cell_type": "code",
   "execution_count": 6,
   "metadata": {},
   "outputs": [
    {
     "name": "stdout",
     "output_type": "stream",
     "text": [
      "Enter a number : 1\n",
      "Enter a number : 2\n",
      "Enter a number : 4\n",
      "Enter a number : 5\n",
      "Enter a number : 6\n",
      "Enter a number : 7\n",
      "Enter a number : -1\n"
     ]
    }
   ],
   "source": [
    "head = createLL()"
   ]
  },
  {
   "cell_type": "code",
   "execution_count": 11,
   "metadata": {},
   "outputs": [],
   "source": [
    "head1 = delete_every_n_nodes(head,2,3)"
   ]
  },
  {
   "cell_type": "code",
   "execution_count": 12,
   "metadata": {},
   "outputs": [
    {
     "name": "stdout",
     "output_type": "stream",
     "text": [
      "1 -> 2 -> 4 -> None\n"
     ]
    }
   ],
   "source": [
    "printLL(head1)"
   ]
  },
  {
   "cell_type": "code",
   "execution_count": null,
   "metadata": {},
   "outputs": [],
   "source": []
  }
 ],
 "metadata": {
  "kernelspec": {
   "display_name": "Python 3",
   "language": "python",
   "name": "python3"
  },
  "language_info": {
   "codemirror_mode": {
    "name": "ipython",
    "version": 3
   },
   "file_extension": ".py",
   "mimetype": "text/x-python",
   "name": "python",
   "nbconvert_exporter": "python",
   "pygments_lexer": "ipython3",
   "version": "3.8.5"
  }
 },
 "nbformat": 4,
 "nbformat_minor": 4
}
