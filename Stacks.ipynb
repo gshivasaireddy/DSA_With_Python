{
 "cells": [
  {
   "cell_type": "markdown",
   "metadata": {},
   "source": [
    "# 1. Intro to Stacks\n",
    "\n",
    "Ex:- \n",
    "1. Stack of Books\n",
    "2. Entry and Exit point are same -> Add/remove is from same point\n",
    "3. Stack is Abstract Datatype\n",
    "4. Stack is about Five things -> a) PUSH (insert) b) POP (delete) c) TOP (access the top element) d) SIZE (length of stack) e)  isEmpty\n",
    "\n"
   ]
  },
  {
   "cell_type": "markdown",
   "metadata": {},
   "source": [
    "# 2. Recursion Stack\n",
    "\n",
    "fact(5)\n",
    "\n",
    "fact(0)\n",
    "\n",
    "  |\n",
    "  \n",
    "fact(1)\n",
    "\n",
    "  |\n",
    "  \n",
    "fact(2)\n",
    "\n",
    "  |\n",
    "  \n",
    "fact(3)\n",
    "\n",
    "  |\n",
    "  \n",
    "fact(4)\n",
    "\n",
    "  |\n",
    "  \n",
    "fact(5)\n"
   ]
  },
  {
   "cell_type": "markdown",
   "metadata": {},
   "source": [
    "# 3. Stack Using Array "
   ]
  },
  {
   "cell_type": "code",
   "execution_count": 1,
   "metadata": {},
   "outputs": [],
   "source": [
    "# push , pop , top , isemtpy , size\n",
    "\n",
    "class Stack:\n",
    "    def __init__(self):\n",
    "        self.__data = []\n",
    "        \n",
    "    def push(self,item):\n",
    "        self.__data.append(item)\n",
    "        \n",
    "    def pop(self):\n",
    "        if self.isEmpty():\n",
    "            print('Stack is Empty')\n",
    "            return\n",
    "        return self.__data.pop()\n",
    "        \n",
    "    def top(self):\n",
    "        if self.isEmpty():\n",
    "            print('Stack is Empty')\n",
    "            return\n",
    "        return self.__data[len(self.__data)-1]\n",
    "        \n",
    "        \n",
    "    def size(self):\n",
    "        return len(self.__data)\n",
    "        \n",
    "    def isEmpty(self):\n",
    "        return self.size()==0\n",
    "        "
   ]
  },
  {
   "cell_type": "code",
   "execution_count": 4,
   "metadata": {},
   "outputs": [],
   "source": [
    "s = Stack()\n",
    "\n",
    "s.push(13)\n",
    "s.push(12)\n",
    "s.push(11)"
   ]
  },
  {
   "cell_type": "code",
   "execution_count": 5,
   "metadata": {},
   "outputs": [
    {
     "name": "stdout",
     "output_type": "stream",
     "text": [
      "11\n",
      "11\n",
      "12\n",
      "13\n"
     ]
    }
   ],
   "source": [
    "print(s.top())\n",
    "while s.isEmpty() is False:\n",
    "    print(s.pop())"
   ]
  },
  {
   "cell_type": "code",
   "execution_count": 6,
   "metadata": {},
   "outputs": [
    {
     "data": {
      "text/plain": [
       "True"
      ]
     },
     "execution_count": 6,
     "metadata": {},
     "output_type": "execute_result"
    }
   ],
   "source": [
    "s.isEmpty()"
   ]
  },
  {
   "cell_type": "markdown",
   "metadata": {},
   "source": [
    "# 4. Stack using Linked List"
   ]
  },
  {
   "cell_type": "code",
   "execution_count": 14,
   "metadata": {},
   "outputs": [],
   "source": [
    "class Node:\n",
    "    def __init__(self , data):\n",
    "        self.data = data\n",
    "        self.next = None\n",
    "        \n",
    "class StackLL:\n",
    "    \n",
    "    def __init__(self):\n",
    "        self.__head = None  ## private members\n",
    "        self.__count  = 0 \n",
    "        \n",
    "    def push(self,element):\n",
    "        newnode = Node(element)\n",
    "        newnode.next = self.__head\n",
    "        self.__head = newnode\n",
    "        self.__count = self.__count+1\n",
    "        \n",
    "        \n",
    "    def pop(self):\n",
    "        if self.isEmpty() is True:\n",
    "            print('Stack is Emtpy')\n",
    "            return       \n",
    "        data = self.__head.data\n",
    "        self.__head = self.__head.next\n",
    "        self.__count=self.__count-1\n",
    "        return data\n",
    "        \n",
    "    def top(self):\n",
    "        if self.isEmpty() is True:\n",
    "            print('Stack is Emtpy')\n",
    "            return\n",
    "        data = self.__head.data\n",
    "        return data\n",
    "        \n",
    "    def size(self):\n",
    "        return self.__count\n",
    "        \n",
    "        \n",
    "    def isEmpty(self):\n",
    "        return self.size() == 0  # we can also go for self.__head is None\n",
    "   \n",
    "        \n",
    "        \n",
    "        "
   ]
  },
  {
   "cell_type": "code",
   "execution_count": 15,
   "metadata": {},
   "outputs": [
    {
     "name": "stdout",
     "output_type": "stream",
     "text": [
      "14\n",
      "13\n",
      "12\n"
     ]
    }
   ],
   "source": [
    "s = StackLL()\n",
    "s.push(12)\n",
    "s.push(13)\n",
    "s.push(14)\n",
    "\n",
    "while s.isEmpty() is False:\n",
    "    print(s.pop())"
   ]
  },
  {
   "cell_type": "code",
   "execution_count": 16,
   "metadata": {},
   "outputs": [
    {
     "name": "stdout",
     "output_type": "stream",
     "text": [
      "Stack is Emtpy\n"
     ]
    }
   ],
   "source": [
    "s.pop()"
   ]
  },
  {
   "cell_type": "markdown",
   "metadata": {},
   "source": [
    "# 5. Inbuilt Stacks and Queues"
   ]
  },
  {
   "cell_type": "code",
   "execution_count": 18,
   "metadata": {},
   "outputs": [
    {
     "name": "stdout",
     "output_type": "stream",
     "text": [
      "1\n",
      "2\n",
      "3\n",
      "Stack Operation Begins here and Queue Ends\n",
      "3\n",
      "2\n",
      "1\n"
     ]
    }
   ],
   "source": [
    "# In python we have inbuilt library for queue and stack\n",
    "\n",
    "import queue \n",
    "\n",
    "a= queue.Queue()\n",
    "a.put(1)\n",
    "a.put(2)\n",
    "a.put(3)\n",
    "\n",
    "while not a.empty():\n",
    "    print(a.get())\n",
    "    \n",
    "\n",
    "print('Stack Operation Begins here and Queue Ends')\n",
    "b = queue.LifoQueue()  # Stacks\n",
    "b.put(1)\n",
    "b.put(2)\n",
    "b.put(3)\n",
    "\n",
    "while not b.empty():\n",
    "    print(b.get())"
   ]
  },
  {
   "cell_type": "markdown",
   "metadata": {},
   "source": [
    "# 6. Balanced Paranthesis"
   ]
  },
  {
   "cell_type": "code",
   "execution_count": 12,
   "metadata": {},
   "outputs": [
    {
     "name": "stdout",
     "output_type": "stream",
     "text": [
      "case 1 :  True\n",
      "case 2 :  False\n",
      "case 3 :  False\n",
      "case 4 :  False\n",
      "case 5 :  True\n",
      "case 6 :  True\n",
      "case 7:  False\n",
      "case 8:  True\n",
      "case 9:  False\n"
     ]
    }
   ],
   "source": [
    "## {([])} --> Balanced  , ([){]} --> imbalanced  (order matters)\n",
    "# we can use LIFO strategy (Last in First out)\n",
    "\n",
    "# Stack should become empty after traversing and when closing bracket comes pop the stack and \n",
    "# check if the opening brace is matching , if not return False\n",
    "\n",
    "class Stack:\n",
    "    def __init__(self):\n",
    "        self.__arr =[]\n",
    "        \n",
    "    def push(self,data):\n",
    "        self.__arr.append(data)\n",
    "        \n",
    "    def pop(self):\n",
    "        if self.isEmpty():\n",
    "            print('Stack is Empty')\n",
    "            return\n",
    "        return self.__arr.pop()\n",
    "    \n",
    "    def isEmpty(self):\n",
    "        return len(self.__arr)==0\n",
    "    \n",
    "    def top(self):\n",
    "        if self.isEmpty():\n",
    "            print('Stack is Empty')\n",
    "            return\n",
    "        return self.__arr[len(self.__arr)-1]\n",
    "    \n",
    "    def size(self):\n",
    "        return len(self.__arr)\n",
    "    \n",
    "def balanced_parenthesis(expr):\n",
    "    \n",
    "    length = len(expr)\n",
    "    stk = Stack()\n",
    "    \n",
    "    for i in range(length):\n",
    "        \n",
    "        # if open brackets push to stack\n",
    "        if expr[i]=='(' or expr[i]=='{' or expr[i]=='[':\n",
    "            stk.push(expr[i])\n",
    "            \n",
    "        # if closed brackets pop stack and check for matching parenthesis\n",
    "        elif expr[i]==')' or expr[i]=='}' or expr[i]==']':\n",
    "            if stk.isEmpty():\n",
    "                return False\n",
    "            temp = stk.pop()\n",
    "            if temp == '(' and expr[i]!=')':\n",
    "                return False\n",
    "            if temp == '[' and expr[i]!=']':\n",
    "                return False\n",
    "            if temp == '{' and expr[i]!='}':\n",
    "                return False\n",
    "        \n",
    "        \n",
    "       \n",
    "     \n",
    "            \n",
    "            \n",
    "    return stk.isEmpty() \n",
    "\n",
    "\n",
    "print('case 1 : ',balanced_parenthesis('[({({[]})})]'))\n",
    "\n",
    "print('case 2 : ',balanced_parenthesis('[({})'))\n",
    "print('case 3 : ',balanced_parenthesis('[{})]'))\n",
    "print('case 4 : ',balanced_parenthesis('[{a+b})]'))\n",
    "\n",
    "print('case 5 : ',balanced_parenthesis('[({a+b})]'))\n",
    "\n",
    "\n",
    "print('case 6 : ',balanced_parenthesis('[a+b +(p+q)]'))\n",
    "\n",
    "print('case 7: ',balanced_parenthesis('}[a+b +(p+q)]'))  \n",
    "print('case 8: ',balanced_parenthesis('[a+b +(p+q)]{}')) \n",
    "print('case 9: ',balanced_parenthesis('[a+b +(p+q)]{'))             \n",
    "            \n",
    "                \n",
    "            \n",
    "        \n",
    "    "
   ]
  },
  {
   "cell_type": "markdown",
   "metadata": {},
   "source": [
    "# 7. Reverse a Stack "
   ]
  },
  {
   "cell_type": "code",
   "execution_count": 31,
   "metadata": {},
   "outputs": [
    {
     "name": "stdout",
     "output_type": "stream",
     "text": [
      "Initially\n",
      "4\n",
      "3\n",
      "2\n",
      "1\n"
     ]
    }
   ],
   "source": [
    "# Reverse a stack using Another Stack but the reference pointer of stack should be same\n",
    "\n",
    "def reverse_stack(s1 , s2):  # 1<-2<-3<-4  ==> 4<-3<-2<-1\n",
    "    if s1.size()==0 or s1.size()==1:\n",
    "        return \n",
    "    \n",
    "    while s1.size()!=1:    #s1 =  4 , 3,2,1\n",
    "        ele = s1.pop()\n",
    "        s2.push(ele)       # s2 = 2,3,4\n",
    "        \n",
    "    last_element = s1.pop() # last = 1 , s1 =[]\n",
    "    \n",
    "    while s2.size()!=0: # s1 = [4,3,2] , s2 =[]\n",
    "        ele = s2.pop()\n",
    "        s1.push(ele)\n",
    "        \n",
    "    reverse_stack(s1,s2)\n",
    "    s1.push(last_element)  # s1 = 1\n",
    "        \n",
    "    return s1\n",
    "        \n",
    "s1 = Stack()\n",
    "s2 = Stack()\n",
    "s3 = Stack()\n",
    "\n",
    "\n",
    "for i in range(1,5):\n",
    "    \n",
    "    s1.push(i)\n",
    "    s3.push(i)\n",
    "\n",
    "    \n",
    "print('Initially')\n",
    "while not s3.isEmpty():\n",
    "    print(s3.pop())\n",
    "    \n",
    "\n",
    "    \n",
    "\n",
    "\n",
    "s1= reverse_stack(s1,s2)\n",
    "\n",
    "\n"
   ]
  },
  {
   "cell_type": "code",
   "execution_count": 32,
   "metadata": {},
   "outputs": [
    {
     "name": "stdout",
     "output_type": "stream",
     "text": [
      "1\n",
      "2\n",
      "3\n",
      "4\n"
     ]
    }
   ],
   "source": [
    "\n",
    "while not s1.isEmpty():\n",
    "    print(s1.pop())\n"
   ]
  },
  {
   "cell_type": "code",
   "execution_count": null,
   "metadata": {},
   "outputs": [],
   "source": []
  }
 ],
 "metadata": {
  "kernelspec": {
   "display_name": "Python 3",
   "language": "python",
   "name": "python3"
  },
  "language_info": {
   "codemirror_mode": {
    "name": "ipython",
    "version": 3
   },
   "file_extension": ".py",
   "mimetype": "text/x-python",
   "name": "python",
   "nbconvert_exporter": "python",
   "pygments_lexer": "ipython3",
   "version": "3.8.5"
  }
 },
 "nbformat": 4,
 "nbformat_minor": 4
}
