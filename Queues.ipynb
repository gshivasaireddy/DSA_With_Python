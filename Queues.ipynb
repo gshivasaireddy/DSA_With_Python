{
 "cells": [
  {
   "cell_type": "markdown",
   "metadata": {},
   "source": [
    "# 1. Introduction to Queues\n",
    "\n",
    "1. Queues follow FIFO(First in First Out) structure.\n",
    "2. Functionalities : Enqueue ( inserting) , Dequeue (delete) , size , isEmpty , front (first element)\n",
    "3. It has two pointers FRONT and REAR\n",
    "4. FRONT is where elements are removed from and REAR is used to insert elements\n",
    "\n",
    "[1,2,3,4] --> front is 1 and rear is 4 here , if we enqueue 5 now it will come next to 4 , if we dequeue then 1 will be removed etc.,"
   ]
  },
  {
   "cell_type": "markdown",
   "metadata": {},
   "source": [
    "# 2. Queue using Array"
   ]
  },
  {
   "cell_type": "code",
   "execution_count": 4,
   "metadata": {},
   "outputs": [],
   "source": [
    "# Queue using Array\n",
    "class Queue:\n",
    "    def __init__(self):\n",
    "        self.__arr = []\n",
    "        self.__front =0\n",
    "        self.__rear = 0\n",
    "        self.__count =0\n",
    "        \n",
    "    def enqueue(self,data):\n",
    "        self.__arr.append(data)\n",
    "        self.__count+=1\n",
    "        self.__rear+=1\n",
    "        \n",
    "    def dequeue(self):\n",
    "        if self._count==0:\n",
    "            return -1\n",
    "        val = self.__arr[self.__front]\n",
    "        print('Dequeued element is : {}'.format(val))\n",
    "        del(val)\n",
    "        self.__front+=1\n",
    "        self.__count-=1\n",
    "        \n",
    "    def size(self):\n",
    "        return 'The size of queue is : '+str(self.__count)\n",
    "        \n",
    "        \n",
    "        \n",
    "    def isEmpty(self):\n",
    "        return self.__count==0\n",
    "        \n",
    "    def front(self):\n",
    "        return 'Front element of Queue is : '+str(self.__arr[self.__front])\n",
    "    \n",
    "    def rear(self):\n",
    "        return 'rear element of Queue is : '+str(self.__arr[self.__rear-1])"
   ]
  },
  {
   "cell_type": "code",
   "execution_count": 5,
   "metadata": {},
   "outputs": [
    {
     "name": "stdout",
     "output_type": "stream",
     "text": [
      "Front element of Queue is : 1\n",
      "The size of queue is : 4\n"
     ]
    }
   ],
   "source": [
    "q = Queue()\n",
    "q.enqueue(1)\n",
    "q.enqueue(2)\n",
    "q.enqueue(3)\n",
    "q.enqueue(4)\n",
    "\n",
    "print(q.front())\n",
    "print(q.size())"
   ]
  },
  {
   "cell_type": "code",
   "execution_count": 6,
   "metadata": {},
   "outputs": [
    {
     "name": "stdout",
     "output_type": "stream",
     "text": [
      "The size of queue is : 4\n",
      "Dequeued element is : 1\n",
      "The size of queue is : 3\n",
      "The size of queue is : 5\n",
      "Dequeued element is : 2\n",
      "Front element of Queue is : 3\n",
      "rear element of Queue is : 6\n"
     ]
    }
   ],
   "source": [
    "print(q.size())\n",
    "q.dequeue()\n",
    "print(q.size())\n",
    "q.enqueue(5)\n",
    "q.enqueue(6)\n",
    "\n",
    "print(q.size())\n",
    "q.dequeue()\n",
    "print(q.front())\n",
    "print(q.rear())"
   ]
  },
  {
   "cell_type": "markdown",
   "metadata": {},
   "source": [
    "# 3. Queue using Linked List"
   ]
  },
  {
   "cell_type": "code",
   "execution_count": 30,
   "metadata": {},
   "outputs": [],
   "source": [
    "class Node:\n",
    "    def __init__(self,data):\n",
    "        self.data = data\n",
    "        self.next = None\n",
    "        \n",
    "class Queue_LL:\n",
    "    def __init__(self):\n",
    "        #self.__data = None\n",
    "        self.__front = None\n",
    "        self.__rear = None\n",
    "        self.__count =0\n",
    "        \n",
    "    def enqueue(self,data):\n",
    "        newnode = Node(data)\n",
    "        if self.__front is None:\n",
    "            self.__front = newnode\n",
    "            #self.__tail = newnode\n",
    "        else:\n",
    "            self.__rear.__next = newnode\n",
    "        self.__rear = newnode\n",
    "        self.__count+=1\n",
    "        \n",
    "    \n",
    "    def dequeue(self):\n",
    "        if self.__count ==0:\n",
    "            return -1\n",
    "        \n",
    "        print('Dequeue element is : ',self.__front.data)\n",
    "        self.__front = self.__front.next\n",
    "        self.__count-=1\n",
    "        \n",
    "    def size(self):\n",
    "        return self.__count\n",
    "    \n",
    "    def isEmpty(self):\n",
    "        return self.__count==0\n",
    "    \n",
    "    def front(self):\n",
    "        return self.__front.data\n",
    "    def rear(self):\n",
    "        return self.__rear.data\n",
    "        \n",
    "        \n",
    "        \n",
    "        "
   ]
  },
  {
   "cell_type": "code",
   "execution_count": 31,
   "metadata": {},
   "outputs": [],
   "source": [
    "qu = Queue_LL()"
   ]
  },
  {
   "cell_type": "code",
   "execution_count": 32,
   "metadata": {},
   "outputs": [],
   "source": [
    "qu.enqueue(1)\n",
    "qu.enqueue(2)\n",
    "qu.enqueue(3)\n",
    "qu.enqueue(4)\n",
    "qu.enqueue(5)"
   ]
  },
  {
   "cell_type": "code",
   "execution_count": 33,
   "metadata": {},
   "outputs": [
    {
     "data": {
      "text/plain": [
       "5"
      ]
     },
     "execution_count": 33,
     "metadata": {},
     "output_type": "execute_result"
    }
   ],
   "source": [
    "qu.size()"
   ]
  },
  {
   "cell_type": "code",
   "execution_count": 34,
   "metadata": {},
   "outputs": [
    {
     "data": {
      "text/plain": [
       "1"
      ]
     },
     "execution_count": 34,
     "metadata": {},
     "output_type": "execute_result"
    }
   ],
   "source": [
    "qu.front()"
   ]
  },
  {
   "cell_type": "code",
   "execution_count": 35,
   "metadata": {},
   "outputs": [
    {
     "data": {
      "text/plain": [
       "5"
      ]
     },
     "execution_count": 35,
     "metadata": {},
     "output_type": "execute_result"
    }
   ],
   "source": [
    "qu.rear()"
   ]
  },
  {
   "cell_type": "code",
   "execution_count": 36,
   "metadata": {},
   "outputs": [
    {
     "name": "stdout",
     "output_type": "stream",
     "text": [
      "Dequeue element is :  1\n"
     ]
    }
   ],
   "source": [
    "qu.dequeue()"
   ]
  },
  {
   "cell_type": "code",
   "execution_count": 37,
   "metadata": {},
   "outputs": [
    {
     "data": {
      "text/plain": [
       "4"
      ]
     },
     "execution_count": 37,
     "metadata": {},
     "output_type": "execute_result"
    }
   ],
   "source": [
    "qu.size()"
   ]
  },
  {
   "cell_type": "code",
   "execution_count": 39,
   "metadata": {},
   "outputs": [
    {
     "name": "stdout",
     "output_type": "stream",
     "text": [
      "7\n",
      "6\n"
     ]
    }
   ],
   "source": [
    "#qu.enqueue(6)\n",
    "qu.enqueue(7)\n",
    "print(qu.rear())\n",
    "print(qu.size())"
   ]
  },
  {
   "cell_type": "markdown",
   "metadata": {},
   "source": [
    "# 4. Queue using 2 Stacks"
   ]
  },
  {
   "cell_type": "code",
   "execution_count": 66,
   "metadata": {},
   "outputs": [
    {
     "name": "stdout",
     "output_type": "stream",
     "text": [
      "3\n",
      "5\n"
     ]
    }
   ],
   "source": [
    "#LIFO strategy\n",
    "class Stack:\n",
    "    def __init__(self):\n",
    "        self.__arr = []\n",
    "        self.__top = 0\n",
    "        self.__count =0\n",
    "        \n",
    "    def push(self,data):\n",
    "        self.__arr.append(data)\n",
    "        self.__count+=1\n",
    "        \n",
    "    def pop(self):\n",
    "        if self.size()==0:\n",
    "            print('Stack is Empty')\n",
    "            return\n",
    "        val =  self.__arr.pop()\n",
    "        self.__count-=1\n",
    "        return val\n",
    "    \n",
    "    def top(self):\n",
    "        return self.__arr[self.__count-1]\n",
    "    \n",
    "    def size(self):\n",
    "        return self.__count\n",
    "    \n",
    "    def isEmpty(self):\n",
    "        return self.__count==0\n",
    "    \n",
    "    def bottom(self):\n",
    "        return self.__arr[0]\n",
    "    \n",
    "s1 = Stack()\n",
    "        \n",
    "        \n",
    "s1.push(6)\n",
    "s1.push(7)\n",
    "s1.push(5)\n",
    "print(s1.size())\n",
    "print(s1.pop())"
   ]
  },
  {
   "cell_type": "code",
   "execution_count": 67,
   "metadata": {},
   "outputs": [
    {
     "name": "stdout",
     "output_type": "stream",
     "text": [
      "7\n"
     ]
    }
   ],
   "source": [
    "print(s1.top())"
   ]
  },
  {
   "cell_type": "code",
   "execution_count": 68,
   "metadata": {},
   "outputs": [
    {
     "name": "stdout",
     "output_type": "stream",
     "text": [
      "2\n"
     ]
    }
   ],
   "source": [
    "print(s1.size())"
   ]
  },
  {
   "cell_type": "code",
   "execution_count": 69,
   "metadata": {},
   "outputs": [
    {
     "name": "stdout",
     "output_type": "stream",
     "text": [
      "6\n"
     ]
    }
   ],
   "source": [
    "print(s1.bottom())"
   ]
  },
  {
   "cell_type": "code",
   "execution_count": 70,
   "metadata": {},
   "outputs": [],
   "source": [
    "class Queue_using_Stack:\n",
    "    def __init__(self):\n",
    "        self.__s1 = Stack()\n",
    "        self.__s2 = Stack()\n",
    "        self.__count =0\n",
    "        \n",
    "    def enqueue(self,data):\n",
    "        self.__s1.push(data)\n",
    "        self.__count+=1\n",
    "        \n",
    "    def dequeue(self):\n",
    "        if self.__count==0:\n",
    "            print('Queue is Empty')\n",
    "            return\n",
    "        \n",
    "        count1 = self.__count\n",
    "        while count1!=0:\n",
    "            self.__s2.push(self.__s1.pop())\n",
    "            count1-=1\n",
    "            \n",
    "            \n",
    "        val = self.__s2.pop()\n",
    "        self.__count-=1\n",
    "        count2 = self.__count\n",
    "        \n",
    "        while count2!=0:\n",
    "            self.__s1.push(self.__s2.pop())\n",
    "            count2-=1\n",
    "        return val\n",
    "    \n",
    "    def size(self):\n",
    "        return self.__count\n",
    "    \n",
    "    def isEmpty(self):\n",
    "        return self.__count==0\n",
    "    \n",
    "    def front(self):\n",
    "        return self.__s1.bottom()"
   ]
  },
  {
   "cell_type": "code",
   "execution_count": 75,
   "metadata": {},
   "outputs": [
    {
     "name": "stdout",
     "output_type": "stream",
     "text": [
      "1\n",
      "4\n"
     ]
    }
   ],
   "source": [
    "q = Queue_using_Stack()\n",
    "\n",
    "q.enqueue(1)\n",
    "q.enqueue(2)\n",
    "q.enqueue(3)\n",
    "q.enqueue(4)\n",
    "\n",
    "print(q.front())\n",
    "print(q.size())"
   ]
  },
  {
   "cell_type": "code",
   "execution_count": 76,
   "metadata": {},
   "outputs": [
    {
     "data": {
      "text/plain": [
       "1"
      ]
     },
     "execution_count": 76,
     "metadata": {},
     "output_type": "execute_result"
    }
   ],
   "source": [
    "q.dequeue()"
   ]
  },
  {
   "cell_type": "code",
   "execution_count": 77,
   "metadata": {},
   "outputs": [
    {
     "data": {
      "text/plain": [
       "3"
      ]
     },
     "execution_count": 77,
     "metadata": {},
     "output_type": "execute_result"
    }
   ],
   "source": [
    "q.size()"
   ]
  },
  {
   "cell_type": "code",
   "execution_count": 78,
   "metadata": {},
   "outputs": [
    {
     "data": {
      "text/plain": [
       "2"
      ]
     },
     "execution_count": 78,
     "metadata": {},
     "output_type": "execute_result"
    }
   ],
   "source": [
    "q.front()"
   ]
  },
  {
   "cell_type": "code",
   "execution_count": null,
   "metadata": {},
   "outputs": [],
   "source": []
  }
 ],
 "metadata": {
  "kernelspec": {
   "display_name": "Python 3",
   "language": "python",
   "name": "python3"
  },
  "language_info": {
   "codemirror_mode": {
    "name": "ipython",
    "version": 3
   },
   "file_extension": ".py",
   "mimetype": "text/x-python",
   "name": "python",
   "nbconvert_exporter": "python",
   "pygments_lexer": "ipython3",
   "version": "3.8.5"
  }
 },
 "nbformat": 4,
 "nbformat_minor": 4
}
